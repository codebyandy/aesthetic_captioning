{
 "cells": [
  {
   "cell_type": "code",
   "execution_count": 21,
   "metadata": {},
   "outputs": [
    {
     "name": "stdout",
     "output_type": "stream",
     "text": [
      "Using path:  /media/data-storage/datasets/reddit/processed_info_train.json\n",
      "Using path:  /media/data-storage/datasets/reddit/processed_info_validation.json\n",
      "Using path:  /media/data-storage/datasets/reddit/processed_info_test.json\n"
     ]
    }
   ],
   "source": [
    "import pandas as pd\n",
    "import os\n",
    "from aestheval.data.datasets import Reddit\n",
    "import torch\n",
    "from tqdm import tqdm\n",
    "\n",
    "SPLITS = ('train', 'validation', 'test')\n",
    "root_dataset = \"/media/data-storage/datasets/reddit/\" # Change this path to where the datasets has been downloaded\n",
    "reddit_dataset = [Reddit(split, dataset_path=root_dataset, load_images=False, min_words=0, informativeness=True) for split in SPLITS]\n",
    "dataset = torch.utils.data.ConcatDataset(reddit_dataset)\n"
   ]
  },
  {
   "cell_type": "code",
   "execution_count": 47,
   "metadata": {},
   "outputs": [
    {
     "name": "stderr",
     "output_type": "stream",
     "text": [
      "100%|██████████| 70833/70833 [17:21<00:00, 67.99it/s]  \n"
     ]
    }
   ],
   "source": [
    "from detoxify import Detoxify\n",
    "\n",
    "detoxify = Detoxify('unbiased', device='cuda')\n",
    "\n",
    "def extend_dictionary(dic1, dic2):\n",
    "\n",
    "    assert set(dic1.keys()) == set(dic2.keys()), \"Both dictionaries should have the same keys\"\n",
    "    for key in dic1:\n",
    "        dic1[key].extend(dic2[key])\n",
    "\n",
    "\n",
    "results = {\n",
    "    'toxicity': [],\n",
    "    'severe_toxicity': [],\n",
    "    'obscene': [],\n",
    "    'identity_attack': [],\n",
    "    'insult': [],\n",
    "    'threat': [],\n",
    "    'sexual_explicit': [],\n",
    "}\n",
    "for img, metadata in tqdm(dataset):\n",
    "    extend_dictionary(results, detoxify.predict(metadata['first_level_comments_values']))"
   ]
  },
  {
   "cell_type": "code",
   "execution_count": 48,
   "metadata": {},
   "outputs": [
    {
     "data": {
      "text/html": [
       "<div>\n",
       "<style scoped>\n",
       "    .dataframe tbody tr th:only-of-type {\n",
       "        vertical-align: middle;\n",
       "    }\n",
       "\n",
       "    .dataframe tbody tr th {\n",
       "        vertical-align: top;\n",
       "    }\n",
       "\n",
       "    .dataframe thead th {\n",
       "        text-align: right;\n",
       "    }\n",
       "</style>\n",
       "<table border=\"1\" class=\"dataframe\">\n",
       "  <thead>\n",
       "    <tr style=\"text-align: right;\">\n",
       "      <th></th>\n",
       "      <th>toxicity</th>\n",
       "      <th>severe_toxicity</th>\n",
       "      <th>obscene</th>\n",
       "      <th>identity_attack</th>\n",
       "      <th>insult</th>\n",
       "      <th>threat</th>\n",
       "      <th>sexual_explicit</th>\n",
       "    </tr>\n",
       "  </thead>\n",
       "  <tbody>\n",
       "    <tr>\n",
       "      <th>0</th>\n",
       "      <td>0.000403</td>\n",
       "      <td>0.000001</td>\n",
       "      <td>0.000029</td>\n",
       "      <td>0.000079</td>\n",
       "      <td>0.000095</td>\n",
       "      <td>0.000018</td>\n",
       "      <td>0.000015</td>\n",
       "    </tr>\n",
       "    <tr>\n",
       "      <th>1</th>\n",
       "      <td>0.000584</td>\n",
       "      <td>0.000002</td>\n",
       "      <td>0.000035</td>\n",
       "      <td>0.000095</td>\n",
       "      <td>0.000159</td>\n",
       "      <td>0.000026</td>\n",
       "      <td>0.000019</td>\n",
       "    </tr>\n",
       "    <tr>\n",
       "      <th>2</th>\n",
       "      <td>0.138204</td>\n",
       "      <td>0.000049</td>\n",
       "      <td>0.000759</td>\n",
       "      <td>0.034167</td>\n",
       "      <td>0.009875</td>\n",
       "      <td>0.008937</td>\n",
       "      <td>0.000453</td>\n",
       "    </tr>\n",
       "    <tr>\n",
       "      <th>3</th>\n",
       "      <td>0.000430</td>\n",
       "      <td>0.000001</td>\n",
       "      <td>0.000028</td>\n",
       "      <td>0.000078</td>\n",
       "      <td>0.000113</td>\n",
       "      <td>0.000020</td>\n",
       "      <td>0.000014</td>\n",
       "    </tr>\n",
       "    <tr>\n",
       "      <th>4</th>\n",
       "      <td>0.001267</td>\n",
       "      <td>0.000003</td>\n",
       "      <td>0.000060</td>\n",
       "      <td>0.000134</td>\n",
       "      <td>0.000151</td>\n",
       "      <td>0.000272</td>\n",
       "      <td>0.000024</td>\n",
       "    </tr>\n",
       "  </tbody>\n",
       "</table>\n",
       "</div>"
      ],
      "text/plain": [
       "   toxicity  severe_toxicity   obscene  identity_attack    insult    threat  \\\n",
       "0  0.000403         0.000001  0.000029         0.000079  0.000095  0.000018   \n",
       "1  0.000584         0.000002  0.000035         0.000095  0.000159  0.000026   \n",
       "2  0.138204         0.000049  0.000759         0.034167  0.009875  0.008937   \n",
       "3  0.000430         0.000001  0.000028         0.000078  0.000113  0.000020   \n",
       "4  0.001267         0.000003  0.000060         0.000134  0.000151  0.000272   \n",
       "\n",
       "   sexual_explicit  \n",
       "0         0.000015  \n",
       "1         0.000019  \n",
       "2         0.000453  \n",
       "3         0.000014  \n",
       "4         0.000024  "
      ]
     },
     "execution_count": 48,
     "metadata": {},
     "output_type": "execute_result"
    }
   ],
   "source": [
    "df = pd.DataFrame(results)\n",
    "df.head()"
   ]
  },
  {
   "cell_type": "code",
   "execution_count": 49,
   "metadata": {},
   "outputs": [
    {
     "data": {
      "text/html": [
       "<div>\n",
       "<style scoped>\n",
       "    .dataframe tbody tr th:only-of-type {\n",
       "        vertical-align: middle;\n",
       "    }\n",
       "\n",
       "    .dataframe tbody tr th {\n",
       "        vertical-align: top;\n",
       "    }\n",
       "\n",
       "    .dataframe thead th {\n",
       "        text-align: right;\n",
       "    }\n",
       "</style>\n",
       "<table border=\"1\" class=\"dataframe\">\n",
       "  <thead>\n",
       "    <tr style=\"text-align: right;\">\n",
       "      <th></th>\n",
       "      <th>toxicity</th>\n",
       "      <th>severe_toxicity</th>\n",
       "      <th>obscene</th>\n",
       "      <th>identity_attack</th>\n",
       "      <th>insult</th>\n",
       "      <th>threat</th>\n",
       "      <th>sexual_explicit</th>\n",
       "    </tr>\n",
       "  </thead>\n",
       "  <tbody>\n",
       "    <tr>\n",
       "      <th>count</th>\n",
       "      <td>216519.000000</td>\n",
       "      <td>2.165190e+05</td>\n",
       "      <td>216519.000000</td>\n",
       "      <td>216519.000000</td>\n",
       "      <td>216519.000000</td>\n",
       "      <td>216519.000000</td>\n",
       "      <td>216519.000000</td>\n",
       "    </tr>\n",
       "    <tr>\n",
       "      <th>mean</th>\n",
       "      <td>0.028898</td>\n",
       "      <td>1.939355e-04</td>\n",
       "      <td>0.011257</td>\n",
       "      <td>0.003746</td>\n",
       "      <td>0.006726</td>\n",
       "      <td>0.004185</td>\n",
       "      <td>0.002597</td>\n",
       "    </tr>\n",
       "    <tr>\n",
       "      <th>std</th>\n",
       "      <td>0.122352</td>\n",
       "      <td>3.805400e-03</td>\n",
       "      <td>0.089595</td>\n",
       "      <td>0.033517</td>\n",
       "      <td>0.052519</td>\n",
       "      <td>0.033562</td>\n",
       "      <td>0.037684</td>\n",
       "    </tr>\n",
       "    <tr>\n",
       "      <th>min</th>\n",
       "      <td>0.000296</td>\n",
       "      <td>7.776556e-07</td>\n",
       "      <td>0.000014</td>\n",
       "      <td>0.000044</td>\n",
       "      <td>0.000061</td>\n",
       "      <td>0.000012</td>\n",
       "      <td>0.000006</td>\n",
       "    </tr>\n",
       "    <tr>\n",
       "      <th>25%</th>\n",
       "      <td>0.000480</td>\n",
       "      <td>1.478286e-06</td>\n",
       "      <td>0.000030</td>\n",
       "      <td>0.000080</td>\n",
       "      <td>0.000110</td>\n",
       "      <td>0.000023</td>\n",
       "      <td>0.000016</td>\n",
       "    </tr>\n",
       "    <tr>\n",
       "      <th>50%</th>\n",
       "      <td>0.000815</td>\n",
       "      <td>1.950958e-06</td>\n",
       "      <td>0.000048</td>\n",
       "      <td>0.000109</td>\n",
       "      <td>0.000155</td>\n",
       "      <td>0.000039</td>\n",
       "      <td>0.000024</td>\n",
       "    </tr>\n",
       "    <tr>\n",
       "      <th>75%</th>\n",
       "      <td>0.003655</td>\n",
       "      <td>5.699015e-06</td>\n",
       "      <td>0.000145</td>\n",
       "      <td>0.000310</td>\n",
       "      <td>0.000482</td>\n",
       "      <td>0.000144</td>\n",
       "      <td>0.000079</td>\n",
       "    </tr>\n",
       "    <tr>\n",
       "      <th>max</th>\n",
       "      <td>0.997912</td>\n",
       "      <td>4.756131e-01</td>\n",
       "      <td>0.993832</td>\n",
       "      <td>0.937725</td>\n",
       "      <td>0.993549</td>\n",
       "      <td>0.916739</td>\n",
       "      <td>0.985829</td>\n",
       "    </tr>\n",
       "  </tbody>\n",
       "</table>\n",
       "</div>"
      ],
      "text/plain": [
       "            toxicity  severe_toxicity        obscene  identity_attack  \\\n",
       "count  216519.000000     2.165190e+05  216519.000000    216519.000000   \n",
       "mean        0.028898     1.939355e-04       0.011257         0.003746   \n",
       "std         0.122352     3.805400e-03       0.089595         0.033517   \n",
       "min         0.000296     7.776556e-07       0.000014         0.000044   \n",
       "25%         0.000480     1.478286e-06       0.000030         0.000080   \n",
       "50%         0.000815     1.950958e-06       0.000048         0.000109   \n",
       "75%         0.003655     5.699015e-06       0.000145         0.000310   \n",
       "max         0.997912     4.756131e-01       0.993832         0.937725   \n",
       "\n",
       "              insult         threat  sexual_explicit  \n",
       "count  216519.000000  216519.000000    216519.000000  \n",
       "mean        0.006726       0.004185         0.002597  \n",
       "std         0.052519       0.033562         0.037684  \n",
       "min         0.000061       0.000012         0.000006  \n",
       "25%         0.000110       0.000023         0.000016  \n",
       "50%         0.000155       0.000039         0.000024  \n",
       "75%         0.000482       0.000144         0.000079  \n",
       "max         0.993549       0.916739         0.985829  "
      ]
     },
     "execution_count": 49,
     "metadata": {},
     "output_type": "execute_result"
    }
   ],
   "source": [
    "df.describe()"
   ]
  },
  {
   "cell_type": "code",
   "execution_count": 57,
   "metadata": {},
   "outputs": [
    {
     "data": {
      "text/plain": [
       "<AxesSubplot:ylabel='Frequency'>"
      ]
     },
     "execution_count": 57,
     "metadata": {},
     "output_type": "execute_result"
    },
    {
     "data": {
      "image/png": "[encoded data removed]",
      "text/plain": [
       "<Figure size 432x288 with 1 Axes>"
      ]
     },
     "metadata": {
      "needs_background": "light"
     },
     "output_type": "display_data"
    }
   ],
   "source": [
    "df.plot(kind='hist', range=(0.5,1.0), bins=50)"
   ]
  },
  {
   "cell_type": "code",
   "execution_count": 58,
   "metadata": {},
   "outputs": [
    {
     "data": {
      "text/plain": [
       "<AxesSubplot:ylabel='Frequency'>"
      ]
     },
     "execution_count": 58,
     "metadata": {},
     "output_type": "execute_result"
    },
    {
     "data": {
      "image/png": "[encoded data removed]",
      "text/plain": [
       "<Figure size 432x288 with 1 Axes>"
      ]
     },
     "metadata": {
      "needs_background": "light"
     },
     "output_type": "display_data"
    }
   ],
   "source": [
    "df.plot(kind='hist', bins=50)"
   ]
  },
  {
   "cell_type": "code",
   "execution_count": 64,
   "metadata": {},
   "outputs": [
    {
     "name": "stdout",
     "output_type": "stream",
     "text": [
      "toxicity 4369\n",
      "severe_toxicity 0\n",
      "obscene 2385\n",
      "identity_attack 336\n",
      "insult 742\n",
      "threat 287\n",
      "sexual_explicit 439\n"
     ]
    }
   ],
   "source": [
    "for column in df.columns:\n",
    "    print(column, df[df[column] > 0.5].shape[0])\n"
   ]
  },
  {
   "cell_type": "code",
   "execution_count": 79,
   "metadata": {},
   "outputs": [],
   "source": [
    "new_df =df.copy()\n",
    "dfs= []\n",
    "for column in new_df.columns:\n",
    "    dfs.append(new_df[new_df[column] > 0.5].copy())"
   ]
  },
  {
   "cell_type": "code",
   "execution_count": 84,
   "metadata": {},
   "outputs": [
    {
     "data": {
      "text/plain": [
       "0.03952539961850923"
      ]
     },
     "execution_count": 84,
     "metadata": {},
     "output_type": "execute_result"
    }
   ],
   "source": [
    "pd.concat(dfs).shape[0] / df.shape[0]"
   ]
  },
  {
   "cell_type": "code",
   "execution_count": null,
   "metadata": {},
   "outputs": [],
   "source": []
  }
 ],
 "metadata": {
  "kernelspec": {
   "display_name": "Python 3.10.4 ('aestheval')",
   "language": "python",
   "name": "python3"
  },
  "language_info": {
   "codemirror_mode": {
    "name": "ipython",
    "version": 3
   },
   "file_extension": ".py",
   "mimetype": "text/x-python",
   "name": "python",
   "nbconvert_exporter": "python",
   "pygments_lexer": "ipython3",
   "version": "3.10.4"
  },
  "orig_nbformat": 4,
  "vscode": {
   "interpreter": {
    "hash": "af2568b77c9ec3f1a0d64b3461c66b289f4d544951ee8b1306f1fdd362419001"
   }
  }
 },
 "nbformat": 4,
 "nbformat_minor": 2
}
