{
 "cells": [
  {
   "cell_type": "code",
   "execution_count": 1,
   "metadata": {},
   "outputs": [
    {
     "name": "stderr",
     "output_type": "stream",
     "text": [
      "/home/daniel/anaconda3/envs/aestheval/lib/python3.10/site-packages/torchvision/io/image.py:13: UserWarning: Failed to load image Python extension: /home/daniel/anaconda3/envs/aestheval/lib/python3.10/site-packages/torchvision/image.so: undefined symbol: _ZN5torch3jit17parseSchemaOrNameERKNSt7__cxx1112basic_stringIcSt11char_traitsIcESaIcEEE\n",
      "  warn(f\"Failed to load image Python extension: {e}\")\n"
     ]
    },
    {
     "name": "stdout",
     "output_type": "stream",
     "text": [
      "Using path:  /media/data-storage/datasets/ava/processed_train.json\n",
      "Using path:  /media/data-storage/datasets/ava/processed_validation.json\n",
      "Using path:  /media/data-storage/datasets/ava/processed_test.json\n"
     ]
    }
   ],
   "source": [
    "from aestheval.data.datasets import AVA\n",
    "import torch\n",
    "from tqdm import tqdm\n",
    "SPLITS = ('train', 'validation', 'test')\n",
    "\n",
    "ava_dataset = [AVA(split, dataset_path=\"/media/data-storage/datasets/ava\", load_images=False) for split in SPLITS]"
   ]
  },
  {
   "cell_type": "code",
   "execution_count": 2,
   "metadata": {},
   "outputs": [],
   "source": [
    "dataset = torch.utils.data.ConcatDataset(ava_dataset)"
   ]
  },
  {
   "cell_type": "code",
   "execution_count": 3,
   "metadata": {},
   "outputs": [
    {
     "data": {
      "text/plain": [
       "(None,\n",
       " {'im_id': '953417',\n",
       "  'im_score': 6.11290322581,\n",
       "  'query': 1396,\n",
       "  'im_name': '953417.jpg',\n",
       "  'comments': [\"6.1! Nice! You have mad macro skills! You'll notice I don't have any... because I suck at it.\",\n",
       "   'Frog with attitude; love it.  Reminds me of Jabba of Star Wars, lol. (voted earlier)',\n",
       "   'he does look kind of lonely. Funky colors.',\n",
       "   \"No thanks, he is quite blue is'nt he, I like this.\",\n",
       "   'great shot!',\n",
       "   'Very cute!',\n",
       "   'Funny shot. Very nice perspective and lovely colors.'],\n",
       "  'sentiment': {0: {'Negative': 0.3295336663722992,\n",
       "    'Neutral': 0.2320113182067871,\n",
       "    'Positive': 0.4384550452232361},\n",
       "   1: {'Negative': 0.005600472446531057,\n",
       "    'Neutral': 0.03543514013290405,\n",
       "    'Positive': 0.9589643478393555},\n",
       "   2: {'Negative': 0.5221530795097351,\n",
       "    'Neutral': 0.4549880623817444,\n",
       "    'Positive': 0.022858841344714165},\n",
       "   3: {'Negative': 0.03750083968043327,\n",
       "    'Neutral': 0.2324349284172058,\n",
       "    'Positive': 0.7300642728805542},\n",
       "   4: {'Negative': 0.013107659295201302,\n",
       "    'Neutral': 0.0535711906850338,\n",
       "    'Positive': 0.9333211183547974},\n",
       "   5: {'Negative': 0.006161110009998083,\n",
       "    'Neutral': 0.024781608954072,\n",
       "    'Positive': 0.9690573215484619},\n",
       "   6: {'Negative': 0.004373413510620594,\n",
       "    'Neutral': 0.017292015254497528,\n",
       "    'Positive': 0.9783345460891724}},\n",
       "  'mean_score': 0.7937589464709163,\n",
       "  'stdev_score': 0.28548399376779676,\n",
       "  'number_of_scores': 7,\n",
       "  'dataset_name': 'ava'})"
      ]
     },
     "execution_count": 3,
     "metadata": {},
     "output_type": "execute_result"
    }
   ],
   "source": [
    "dataset[0]"
   ]
  },
  {
   "cell_type": "code",
   "execution_count": 4,
   "metadata": {},
   "outputs": [],
   "source": [
    "ncomments=[]\n",
    "nwords = []\n",
    "for im, d in dataset:\n",
    "    # print(d['comments'])\n",
    "    ncomments.append(len(d['comments']))\n",
    "    nwords.extend([len(x.split()) for x in d['comments']])"
   ]
  },
  {
   "cell_type": "code",
   "execution_count": 5,
   "metadata": {},
   "outputs": [
    {
     "data": {
      "text/plain": [
       "3354044"
      ]
     },
     "execution_count": 5,
     "metadata": {},
     "output_type": "execute_result"
    }
   ],
   "source": [
    "sum(ncomments)"
   ]
  },
  {
   "cell_type": "code",
   "execution_count": 6,
   "metadata": {},
   "outputs": [
    {
     "data": {
      "text/plain": [
       "253961"
      ]
     },
     "execution_count": 6,
     "metadata": {},
     "output_type": "execute_result"
    }
   ],
   "source": [
    "len(dataset)"
   ]
  },
  {
   "cell_type": "code",
   "execution_count": 7,
   "metadata": {},
   "outputs": [
    {
     "data": {
      "text/plain": [
       "count    253961.000000\n",
       "mean         13.206925\n",
       "std          13.129594\n",
       "min           1.000000\n",
       "25%           6.000000\n",
       "50%          10.000000\n",
       "75%          16.000000\n",
       "max         367.000000\n",
       "dtype: float64"
      ]
     },
     "execution_count": 7,
     "metadata": {},
     "output_type": "execute_result"
    }
   ],
   "source": [
    "import pandas as pd\n",
    "pd.Series(ncomments).describe()"
   ]
  },
  {
   "cell_type": "code",
   "execution_count": 8,
   "metadata": {},
   "outputs": [
    {
     "data": {
      "text/plain": [
       "<AxesSubplot:>"
      ]
     },
     "execution_count": 8,
     "metadata": {},
     "output_type": "execute_result"
    },
    {
     "data": {
      "image/png": "[encoded data removed]",
      "text/plain": [
       "<Figure size 432x288 with 1 Axes>"
      ]
     },
     "metadata": {
      "needs_background": "light"
     },
     "output_type": "display_data"
    }
   ],
   "source": [
    "pd.Series(ncomments).hist(bins=100)"
   ]
  },
  {
   "cell_type": "code",
   "execution_count": 9,
   "metadata": {},
   "outputs": [
    {
     "name": "stdout",
     "output_type": "stream",
     "text": [
      "count    3.354044e+06\n",
      "mean     1.570160e+01\n",
      "std      1.701090e+01\n",
      "min      1.000000e+00\n",
      "25%      5.000000e+00\n",
      "50%      1.100000e+01\n",
      "75%      2.000000e+01\n",
      "max      2.146000e+03\n",
      "dtype: float64\n"
     ]
    },
    {
     "data": {
      "text/plain": [
       "<AxesSubplot:>"
      ]
     },
     "execution_count": 9,
     "metadata": {},
     "output_type": "execute_result"
    },
    {
     "data": {
      "image/png": "[encoded data removed]",
      "text/plain": [
       "<Figure size 432x288 with 1 Axes>"
      ]
     },
     "metadata": {
      "needs_background": "light"
     },
     "output_type": "display_data"
    }
   ],
   "source": [
    "print(pd.Series(nwords).describe())\n",
    "pd.Series(nwords).hist(bins=100)"
   ]
  },
  {
   "cell_type": "code",
   "execution_count": 10,
   "metadata": {},
   "outputs": [
    {
     "name": "stderr",
     "output_type": "stream",
     "text": [
      "100%|██████████| 253961/253961 [00:00<00:00, 1533871.85it/s]\n"
     ]
    }
   ],
   "source": [
    "gt_scores, pred_scores = zip(*[(data['im_score'], data['mean_score']) for _, data in tqdm(dataset)])\n",
    "\n"
   ]
  },
  {
   "cell_type": "code",
   "execution_count": 11,
   "metadata": {},
   "outputs": [
    {
     "name": "stdout",
     "output_type": "stream",
     "text": [
      "SRCC = SpearmanrResult(correlation=0.6335133407839579, pvalue=0.0)\n",
      "MSE = 5.9397\n",
      "LCC = (0.6424464694494703, 0.0)\n"
     ]
    }
   ],
   "source": [
    "from scipy import stats\n",
    "import sklearn.metrics as sm\n",
    "\n",
    "pred_scores = [score*10 for score in pred_scores]\n",
    "srcc = stats.spearmanr(gt_scores, pred_scores)\n",
    "print(\"SRCC =\", srcc)\n",
    "mse = round(sm.mean_squared_error(gt_scores, pred_scores), 4)\n",
    "print(\"MSE =\", mse)\n",
    "lcc = stats.pearsonr(gt_scores, pred_scores)\n",
    "print(\"LCC =\", lcc)"
   ]
  },
  {
   "cell_type": "code",
   "execution_count": 12,
   "metadata": {},
   "outputs": [
    {
     "data": {
      "text/html": [
       "<div>\n",
       "<style scoped>\n",
       "    .dataframe tbody tr th:only-of-type {\n",
       "        vertical-align: middle;\n",
       "    }\n",
       "\n",
       "    .dataframe tbody tr th {\n",
       "        vertical-align: top;\n",
       "    }\n",
       "\n",
       "    .dataframe thead th {\n",
       "        text-align: right;\n",
       "    }\n",
       "</style>\n",
       "<table border=\"1\" class=\"dataframe\">\n",
       "  <thead>\n",
       "    <tr style=\"text-align: right;\">\n",
       "      <th></th>\n",
       "      <th>Ground truth</th>\n",
       "      <th>Predicted score</th>\n",
       "    </tr>\n",
       "  </thead>\n",
       "  <tbody>\n",
       "    <tr>\n",
       "      <th>0</th>\n",
       "      <td>6.112903</td>\n",
       "      <td>7.937589</td>\n",
       "    </tr>\n",
       "    <tr>\n",
       "      <th>1</th>\n",
       "      <td>6.593750</td>\n",
       "      <td>8.828905</td>\n",
       "    </tr>\n",
       "    <tr>\n",
       "      <th>2</th>\n",
       "      <td>5.796875</td>\n",
       "      <td>9.539987</td>\n",
       "    </tr>\n",
       "    <tr>\n",
       "      <th>3</th>\n",
       "      <td>5.040984</td>\n",
       "      <td>9.905155</td>\n",
       "    </tr>\n",
       "    <tr>\n",
       "      <th>4</th>\n",
       "      <td>5.943548</td>\n",
       "      <td>9.696896</td>\n",
       "    </tr>\n",
       "    <tr>\n",
       "      <th>...</th>\n",
       "      <td>...</td>\n",
       "      <td>...</td>\n",
       "    </tr>\n",
       "    <tr>\n",
       "      <th>253956</th>\n",
       "      <td>4.439024</td>\n",
       "      <td>4.308670</td>\n",
       "    </tr>\n",
       "    <tr>\n",
       "      <th>253957</th>\n",
       "      <td>5.814050</td>\n",
       "      <td>7.860226</td>\n",
       "    </tr>\n",
       "    <tr>\n",
       "      <th>253958</th>\n",
       "      <td>5.344398</td>\n",
       "      <td>7.022425</td>\n",
       "    </tr>\n",
       "    <tr>\n",
       "      <th>253959</th>\n",
       "      <td>5.893701</td>\n",
       "      <td>9.159501</td>\n",
       "    </tr>\n",
       "    <tr>\n",
       "      <th>253960</th>\n",
       "      <td>6.675573</td>\n",
       "      <td>9.476929</td>\n",
       "    </tr>\n",
       "  </tbody>\n",
       "</table>\n",
       "<p>253961 rows × 2 columns</p>\n",
       "</div>"
      ],
      "text/plain": [
       "        Ground truth  Predicted score\n",
       "0           6.112903         7.937589\n",
       "1           6.593750         8.828905\n",
       "2           5.796875         9.539987\n",
       "3           5.040984         9.905155\n",
       "4           5.943548         9.696896\n",
       "...              ...              ...\n",
       "253956      4.439024         4.308670\n",
       "253957      5.814050         7.860226\n",
       "253958      5.344398         7.022425\n",
       "253959      5.893701         9.159501\n",
       "253960      6.675573         9.476929\n",
       "\n",
       "[253961 rows x 2 columns]"
      ]
     },
     "execution_count": 12,
     "metadata": {},
     "output_type": "execute_result"
    }
   ],
   "source": [
    "df = pd.DataFrame({\n",
    "    \"Ground truth\": gt_scores,\n",
    "    \"Predicted score\": pred_scores\n",
    "    })\n",
    "df"
   ]
  },
  {
   "cell_type": "code",
   "execution_count": 13,
   "metadata": {},
   "outputs": [
    {
     "name": "stdout",
     "output_type": "stream",
     "text": [
      "count    253961.000000\n",
      "mean          0.741391\n",
      "std           0.169991\n",
      "min           0.025458\n",
      "25%           0.637067\n",
      "50%           0.772274\n",
      "75%           0.874148\n",
      "max           0.993714\n",
      "dtype: float64\n"
     ]
    },
    {
     "data": {
      "text/plain": [
       "<AxesSubplot:ylabel='Frequency'>"
      ]
     },
     "execution_count": 13,
     "metadata": {},
     "output_type": "execute_result"
    },
    {
     "data": {
      "image/png": "[encoded data removed]",
      "text/plain": [
       "<Figure size 432x288 with 1 Axes>"
      ]
     },
     "metadata": {
      "needs_background": "light"
     },
     "output_type": "display_data"
    }
   ],
   "source": [
    "import pandas as pd\n",
    "s = pd.Series([data['mean_score'] for _, data in dataset])\n",
    "print(s.describe())\n",
    "s.plot(kind='hist', bins=100)\n"
   ]
  },
  {
   "cell_type": "code",
   "execution_count": null,
   "metadata": {},
   "outputs": [],
   "source": [
    "fig, ax =plt.subplots(1, 3, sharey=True) #sharey es para compartir el eje vertical porque estan todos en el mismo rango\n",
    "sns.set_theme(style=\"ticks\", color_codes=True, font_scale=3) \n",
    "\n",
    "g1=sns.barplot(x=0, y=1,  palette=sns.color_palette(\"pastel\"), data=s, ax=ax[0])\n",
    "g1.set(xlabel=None, ylabel=None,)\n",
    "plt.setp(g1.get_xticklabels(), rotation=45) # para rotar las labels del eje x\n",
    "g1.tick_params(labelsize=30)\n",
    "g1.set_title('Shot Scale')\n",
    "\n",
    "g2=sns.barplot(x=0, y=1,  palette=sns.color_palette(\"pastel\"), data=composition_data, ax=ax[1])\n",
    "g2.set(xlabel=None, ylabel=None)\n",
    "plt.setp(g2.get_xticklabels(), rotation=45)\n",
    "g2.tick_params(labelsize=30)\n",
    "g2.set_title('Composition')\n",
    "\n",
    "g3=sns.barplot(x=0, y=1,  palette=sns.color_palette(\"pastel\"), data=semantic_data, ax=ax[2])\n",
    "g3.set(xlabel=None, ylabel=None)\n",
    "plt.setp(g3.get_xticklabels(), rotation=45)\n",
    "g3.tick_params(labelsize=30)\n",
    "g3.set_title('Content')\n",
    "\n",
    "plt.subplots_adjust(left=0.05, bottom=0.2,right=0.95) # manual para que me ajuste bien el plot al texto\n",
    "fig.show()"
   ]
  },
  {
   "cell_type": "markdown",
   "metadata": {},
   "source": [
    "**NOTE**: Sentiment score scale is [0,1] and ava original score scale is [0,10]"
   ]
  },
  {
   "cell_type": "code",
   "execution_count": 22,
   "metadata": {},
   "outputs": [
    {
     "name": "stdout",
     "output_type": "stream",
     "text": [
      "count    253961.000000\n",
      "mean          5.385840\n",
      "std           0.732089\n",
      "min           1.808989\n",
      "25%           4.913858\n",
      "50%           5.390476\n",
      "75%           5.868932\n",
      "max           8.600000\n",
      "dtype: float64\n"
     ]
    },
    {
     "data": {
      "text/plain": [
       "<AxesSubplot:ylabel='Frequency'>"
      ]
     },
     "execution_count": 22,
     "metadata": {},
     "output_type": "execute_result"
    },
    {
     "data": {
      "image/png": "[encoded data removed]",
      "text/plain": [
       "<Figure size 432x288 with 1 Axes>"
      ]
     },
     "metadata": {
      "needs_background": "light"
     },
     "output_type": "display_data"
    }
   ],
   "source": [
    "# original ava score\n",
    "s = pd.Series([data['im_score'] for _, data in dataset])\n",
    "print(s.describe())\n",
    "s.plot(kind='hist', bins=100)\n"
   ]
  },
  {
   "cell_type": "code",
   "execution_count": 24,
   "metadata": {},
   "outputs": [
    {
     "name": "stdout",
     "output_type": "stream",
     "text": [
      "count    253961.000000\n",
      "mean          0.243858\n",
      "std           0.110952\n",
      "min           0.000000\n",
      "25%           0.180615\n",
      "50%           0.261050\n",
      "75%           0.320977\n",
      "max           0.679175\n",
      "dtype: float64\n"
     ]
    },
    {
     "data": {
      "text/plain": [
       "<AxesSubplot:ylabel='Frequency'>"
      ]
     },
     "execution_count": 24,
     "metadata": {},
     "output_type": "execute_result"
    },
    {
     "data": {
      "image/png": "[encoded data removed]",
      "text/plain": [
       "<Figure size 432x288 with 1 Axes>"
      ]
     },
     "metadata": {
      "needs_background": "light"
     },
     "output_type": "display_data"
    }
   ],
   "source": [
    "# stdev of sentiment score\n",
    "\n",
    "s = pd.Series([data['stdev_score'] for _, data in dataset])\n",
    "print(s.describe())\n",
    "s.plot(kind='hist', bins=100)\n"
   ]
  },
  {
   "cell_type": "code",
   "execution_count": 26,
   "metadata": {},
   "outputs": [
    {
     "name": "stdout",
     "output_type": "stream",
     "text": [
      "count    253961.000000\n",
      "mean         13.206925\n",
      "std          13.129594\n",
      "min           1.000000\n",
      "25%           6.000000\n",
      "50%          10.000000\n",
      "75%          16.000000\n",
      "max         367.000000\n",
      "dtype: float64\n"
     ]
    },
    {
     "data": {
      "text/plain": [
       "<AxesSubplot:ylabel='Frequency'>"
      ]
     },
     "execution_count": 26,
     "metadata": {},
     "output_type": "execute_result"
    },
    {
     "data": {
      "image/png": "[encoded data removed]",
      "text/plain": [
       "<Figure size 432x288 with 1 Axes>"
      ]
     },
     "metadata": {
      "needs_background": "light"
     },
     "output_type": "display_data"
    }
   ],
   "source": [
    "# Number of sentiment scores\n",
    "s = pd.Series([data['number_of_scores'] for _, data in dataset])\n",
    "print(s.describe())\n",
    "s.plot(kind='hist', bins=100)\n",
    "\n"
   ]
  },
  {
   "cell_type": "markdown",
   "metadata": {},
   "source": [
    "# AVA test set shouldn't be used as test set "
   ]
  },
  {
   "cell_type": "code",
   "execution_count": 28,
   "metadata": {},
   "outputs": [
    {
     "data": {
      "image/png": "[encoded data removed]",
      "text/plain": [
       "<Figure size 1368x360 with 3 Axes>"
      ]
     },
     "metadata": {
      "needs_background": "light"
     },
     "output_type": "display_data"
    }
   ],
   "source": [
    "import matplotlib.pyplot as plt\n",
    "plt.figure(figsize=(19, 5))\n",
    "i = 131\n",
    "for k, v in zip(['train', 'validation', 'test'], ava_dataset):\n",
    "    plt.subplot(i)\n",
    "    i+=1\n",
    "    scores = [data['im_score'] for im, data in v]\n",
    "    plt.hist(scores, 300)\n",
    "    plt.title(k)\n",
    "    plt.grid(True)\n",
    "plt.suptitle('Score distribution')\n",
    "plt.show()"
   ]
  },
  {
   "cell_type": "code",
   "execution_count": 64,
   "metadata": {},
   "outputs": [
    {
     "data": {
      "text/html": [
       "<div>\n",
       "<style scoped>\n",
       "    .dataframe tbody tr th:only-of-type {\n",
       "        vertical-align: middle;\n",
       "    }\n",
       "\n",
       "    .dataframe tbody tr th {\n",
       "        vertical-align: top;\n",
       "    }\n",
       "\n",
       "    .dataframe thead th {\n",
       "        text-align: right;\n",
       "    }\n",
       "</style>\n",
       "<table border=\"1\" class=\"dataframe\">\n",
       "  <thead>\n",
       "    <tr style=\"text-align: right;\">\n",
       "      <th></th>\n",
       "      <th>1</th>\n",
       "      <th>2</th>\n",
       "      <th>3</th>\n",
       "      <th>4</th>\n",
       "      <th>5</th>\n",
       "      <th>6</th>\n",
       "      <th>7</th>\n",
       "      <th>8</th>\n",
       "      <th>9</th>\n",
       "      <th>10</th>\n",
       "      <th>tag1</th>\n",
       "      <th>tag2</th>\n",
       "      <th>challenge_id</th>\n",
       "      <th>MOS</th>\n",
       "      <th>image_name</th>\n",
       "      <th>MLS</th>\n",
       "      <th>set</th>\n",
       "      <th>width</th>\n",
       "      <th>height</th>\n",
       "      <th>num_scorers</th>\n",
       "    </tr>\n",
       "  </thead>\n",
       "  <tbody>\n",
       "    <tr>\n",
       "      <th>0</th>\n",
       "      <td>0</td>\n",
       "      <td>0</td>\n",
       "      <td>0</td>\n",
       "      <td>5</td>\n",
       "      <td>32</td>\n",
       "      <td>50</td>\n",
       "      <td>23</td>\n",
       "      <td>10</td>\n",
       "      <td>3</td>\n",
       "      <td>1</td>\n",
       "      <td>22</td>\n",
       "      <td>0</td>\n",
       "      <td>1396</td>\n",
       "      <td>6.112903</td>\n",
       "      <td>953417.jpg</td>\n",
       "      <td>6</td>\n",
       "      <td>training</td>\n",
       "      <td>781.0</td>\n",
       "      <td>699.0</td>\n",
       "      <td>124</td>\n",
       "    </tr>\n",
       "    <tr>\n",
       "      <th>1</th>\n",
       "      <td>0</td>\n",
       "      <td>3</td>\n",
       "      <td>2</td>\n",
       "      <td>3</td>\n",
       "      <td>13</td>\n",
       "      <td>40</td>\n",
       "      <td>35</td>\n",
       "      <td>21</td>\n",
       "      <td>8</td>\n",
       "      <td>3</td>\n",
       "      <td>20</td>\n",
       "      <td>53</td>\n",
       "      <td>1396</td>\n",
       "      <td>6.593750</td>\n",
       "      <td>953777.jpg</td>\n",
       "      <td>6</td>\n",
       "      <td>training</td>\n",
       "      <td>550.0</td>\n",
       "      <td>800.0</td>\n",
       "      <td>128</td>\n",
       "    </tr>\n",
       "    <tr>\n",
       "      <th>2</th>\n",
       "      <td>0</td>\n",
       "      <td>2</td>\n",
       "      <td>3</td>\n",
       "      <td>9</td>\n",
       "      <td>35</td>\n",
       "      <td>50</td>\n",
       "      <td>20</td>\n",
       "      <td>5</td>\n",
       "      <td>2</td>\n",
       "      <td>2</td>\n",
       "      <td>0</td>\n",
       "      <td>0</td>\n",
       "      <td>1396</td>\n",
       "      <td>5.796875</td>\n",
       "      <td>953756.jpg</td>\n",
       "      <td>6</td>\n",
       "      <td>training</td>\n",
       "      <td>800.0</td>\n",
       "      <td>594.0</td>\n",
       "      <td>128</td>\n",
       "    </tr>\n",
       "    <tr>\n",
       "      <th>3</th>\n",
       "      <td>0</td>\n",
       "      <td>1</td>\n",
       "      <td>7</td>\n",
       "      <td>26</td>\n",
       "      <td>56</td>\n",
       "      <td>23</td>\n",
       "      <td>6</td>\n",
       "      <td>1</td>\n",
       "      <td>0</td>\n",
       "      <td>2</td>\n",
       "      <td>0</td>\n",
       "      <td>0</td>\n",
       "      <td>1396</td>\n",
       "      <td>5.040984</td>\n",
       "      <td>954195.jpg</td>\n",
       "      <td>5</td>\n",
       "      <td>training</td>\n",
       "      <td>587.0</td>\n",
       "      <td>674.0</td>\n",
       "      <td>122</td>\n",
       "    </tr>\n",
       "    <tr>\n",
       "      <th>4</th>\n",
       "      <td>0</td>\n",
       "      <td>1</td>\n",
       "      <td>4</td>\n",
       "      <td>5</td>\n",
       "      <td>33</td>\n",
       "      <td>50</td>\n",
       "      <td>17</td>\n",
       "      <td>9</td>\n",
       "      <td>3</td>\n",
       "      <td>2</td>\n",
       "      <td>21</td>\n",
       "      <td>28</td>\n",
       "      <td>1396</td>\n",
       "      <td>5.943548</td>\n",
       "      <td>953903.jpg</td>\n",
       "      <td>6</td>\n",
       "      <td>training</td>\n",
       "      <td>800.0</td>\n",
       "      <td>533.0</td>\n",
       "      <td>124</td>\n",
       "    </tr>\n",
       "  </tbody>\n",
       "</table>\n",
       "</div>"
      ],
      "text/plain": [
       "   1  2  3   4   5   6   7   8  9  10  tag1  tag2  challenge_id       MOS  \\\n",
       "0  0  0  0   5  32  50  23  10  3   1    22     0          1396  6.112903   \n",
       "1  0  3  2   3  13  40  35  21  8   3    20    53          1396  6.593750   \n",
       "2  0  2  3   9  35  50  20   5  2   2     0     0          1396  5.796875   \n",
       "3  0  1  7  26  56  23   6   1  0   2     0     0          1396  5.040984   \n",
       "4  0  1  4   5  33  50  17   9  3   2    21    28          1396  5.943548   \n",
       "\n",
       "   image_name  MLS       set  width  height  num_scorers  \n",
       "0  953417.jpg    6  training  781.0   699.0          124  \n",
       "1  953777.jpg    6  training  550.0   800.0          128  \n",
       "2  953756.jpg    6  training  800.0   594.0          128  \n",
       "3  954195.jpg    5  training  587.0   674.0          122  \n",
       "4  953903.jpg    6  training  800.0   533.0          124  "
      ]
     },
     "execution_count": 64,
     "metadata": {},
     "output_type": "execute_result"
    }
   ],
   "source": [
    "ava = pd.read_csv('../aestheval/data/ava/AVA_data_official_test.csv')\n",
    "ava['num_scorers'] = ava[['1','2','3','4','5','6','7','8','9','10']].sum(axis=1)\n",
    "ava.head()"
   ]
  },
  {
   "cell_type": "code",
   "execution_count": 65,
   "metadata": {},
   "outputs": [
    {
     "data": {
      "text/html": [
       "<div>\n",
       "<style scoped>\n",
       "    .dataframe tbody tr th:only-of-type {\n",
       "        vertical-align: middle;\n",
       "    }\n",
       "\n",
       "    .dataframe tbody tr th {\n",
       "        vertical-align: top;\n",
       "    }\n",
       "\n",
       "    .dataframe thead th {\n",
       "        text-align: right;\n",
       "    }\n",
       "</style>\n",
       "<table border=\"1\" class=\"dataframe\">\n",
       "  <thead>\n",
       "    <tr style=\"text-align: right;\">\n",
       "      <th></th>\n",
       "      <th>1</th>\n",
       "      <th>2</th>\n",
       "      <th>3</th>\n",
       "      <th>4</th>\n",
       "      <th>5</th>\n",
       "      <th>6</th>\n",
       "      <th>7</th>\n",
       "      <th>8</th>\n",
       "      <th>9</th>\n",
       "      <th>10</th>\n",
       "      <th>tag1</th>\n",
       "      <th>tag2</th>\n",
       "      <th>challenge_id</th>\n",
       "      <th>MOS</th>\n",
       "      <th>MLS</th>\n",
       "      <th>width</th>\n",
       "      <th>height</th>\n",
       "      <th>num_scorers</th>\n",
       "    </tr>\n",
       "  </thead>\n",
       "  <tbody>\n",
       "    <tr>\n",
       "      <th>count</th>\n",
       "      <td>255502.000000</td>\n",
       "      <td>255502.000000</td>\n",
       "      <td>255502.000000</td>\n",
       "      <td>255502.000000</td>\n",
       "      <td>255502.000000</td>\n",
       "      <td>255502.000000</td>\n",
       "      <td>255502.000000</td>\n",
       "      <td>255502.000000</td>\n",
       "      <td>255502.000000</td>\n",
       "      <td>255502.000000</td>\n",
       "      <td>255502.000000</td>\n",
       "      <td>255502.000000</td>\n",
       "      <td>255502.000000</td>\n",
       "      <td>255502.000000</td>\n",
       "      <td>255502.000000</td>\n",
       "      <td>255502.000000</td>\n",
       "      <td>255502.000000</td>\n",
       "      <td>255502.000000</td>\n",
       "    </tr>\n",
       "    <tr>\n",
       "      <th>mean</th>\n",
       "      <td>2.693470</td>\n",
       "      <td>5.702237</td>\n",
       "      <td>13.959574</td>\n",
       "      <td>34.882956</td>\n",
       "      <td>60.612109</td>\n",
       "      <td>47.782033</td>\n",
       "      <td>24.573941</td>\n",
       "      <td>11.900361</td>\n",
       "      <td>5.018830</td>\n",
       "      <td>3.011581</td>\n",
       "      <td>11.315563</td>\n",
       "      <td>16.157862</td>\n",
       "      <td>652.126594</td>\n",
       "      <td>5.383304</td>\n",
       "      <td>5.241575</td>\n",
       "      <td>606.980090</td>\n",
       "      <td>537.387206</td>\n",
       "      <td>210.137091</td>\n",
       "    </tr>\n",
       "    <tr>\n",
       "      <th>std</th>\n",
       "      <td>6.106235</td>\n",
       "      <td>7.505140</td>\n",
       "      <td>13.080868</td>\n",
       "      <td>22.038484</td>\n",
       "      <td>22.799079</td>\n",
       "      <td>20.418634</td>\n",
       "      <td>16.251027</td>\n",
       "      <td>10.824319</td>\n",
       "      <td>6.076987</td>\n",
       "      <td>4.535615</td>\n",
       "      <td>10.511550</td>\n",
       "      <td>16.263798</td>\n",
       "      <td>367.627966</td>\n",
       "      <td>0.731299</td>\n",
       "      <td>0.726625</td>\n",
       "      <td>110.434642</td>\n",
       "      <td>115.157571</td>\n",
       "      <td>61.507492</td>\n",
       "    </tr>\n",
       "    <tr>\n",
       "      <th>min</th>\n",
       "      <td>0.000000</td>\n",
       "      <td>0.000000</td>\n",
       "      <td>0.000000</td>\n",
       "      <td>0.000000</td>\n",
       "      <td>0.000000</td>\n",
       "      <td>0.000000</td>\n",
       "      <td>0.000000</td>\n",
       "      <td>0.000000</td>\n",
       "      <td>0.000000</td>\n",
       "      <td>0.000000</td>\n",
       "      <td>0.000000</td>\n",
       "      <td>0.000000</td>\n",
       "      <td>2.000000</td>\n",
       "      <td>1.808989</td>\n",
       "      <td>1.000000</td>\n",
       "      <td>120.000000</td>\n",
       "      <td>90.000000</td>\n",
       "      <td>78.000000</td>\n",
       "    </tr>\n",
       "    <tr>\n",
       "      <th>25%</th>\n",
       "      <td>0.000000</td>\n",
       "      <td>1.000000</td>\n",
       "      <td>5.000000</td>\n",
       "      <td>18.000000</td>\n",
       "      <td>45.000000</td>\n",
       "      <td>34.000000</td>\n",
       "      <td>12.000000</td>\n",
       "      <td>4.000000</td>\n",
       "      <td>1.000000</td>\n",
       "      <td>1.000000</td>\n",
       "      <td>1.000000</td>\n",
       "      <td>0.000000</td>\n",
       "      <td>351.000000</td>\n",
       "      <td>4.911215</td>\n",
       "      <td>5.000000</td>\n",
       "      <td>529.000000</td>\n",
       "      <td>448.000000</td>\n",
       "      <td>164.000000</td>\n",
       "    </tr>\n",
       "    <tr>\n",
       "      <th>50%</th>\n",
       "      <td>1.000000</td>\n",
       "      <td>3.000000</td>\n",
       "      <td>10.000000</td>\n",
       "      <td>31.000000</td>\n",
       "      <td>59.000000</td>\n",
       "      <td>47.000000</td>\n",
       "      <td>22.000000</td>\n",
       "      <td>9.000000</td>\n",
       "      <td>3.000000</td>\n",
       "      <td>2.000000</td>\n",
       "      <td>12.000000</td>\n",
       "      <td>17.000000</td>\n",
       "      <td>620.000000</td>\n",
       "      <td>5.386647</td>\n",
       "      <td>5.000000</td>\n",
       "      <td>640.000000</td>\n",
       "      <td>514.000000</td>\n",
       "      <td>201.000000</td>\n",
       "    </tr>\n",
       "    <tr>\n",
       "      <th>75%</th>\n",
       "      <td>3.000000</td>\n",
       "      <td>7.000000</td>\n",
       "      <td>19.000000</td>\n",
       "      <td>48.000000</td>\n",
       "      <td>74.000000</td>\n",
       "      <td>59.000000</td>\n",
       "      <td>34.000000</td>\n",
       "      <td>16.000000</td>\n",
       "      <td>7.000000</td>\n",
       "      <td>4.000000</td>\n",
       "      <td>18.000000</td>\n",
       "      <td>27.000000</td>\n",
       "      <td>944.000000</td>\n",
       "      <td>5.865613</td>\n",
       "      <td>6.000000</td>\n",
       "      <td>640.000000</td>\n",
       "      <td>640.000000</td>\n",
       "      <td>247.000000</td>\n",
       "    </tr>\n",
       "    <tr>\n",
       "      <th>max</th>\n",
       "      <td>238.000000</td>\n",
       "      <td>85.000000</td>\n",
       "      <td>131.000000</td>\n",
       "      <td>208.000000</td>\n",
       "      <td>242.000000</td>\n",
       "      <td>204.000000</td>\n",
       "      <td>159.000000</td>\n",
       "      <td>126.000000</td>\n",
       "      <td>104.000000</td>\n",
       "      <td>123.000000</td>\n",
       "      <td>65.000000</td>\n",
       "      <td>65.000000</td>\n",
       "      <td>1408.000000</td>\n",
       "      <td>8.600000</td>\n",
       "      <td>10.000000</td>\n",
       "      <td>800.000000</td>\n",
       "      <td>800.000000</td>\n",
       "      <td>549.000000</td>\n",
       "    </tr>\n",
       "  </tbody>\n",
       "</table>\n",
       "</div>"
      ],
      "text/plain": [
       "                   1              2              3              4  \\\n",
       "count  255502.000000  255502.000000  255502.000000  255502.000000   \n",
       "mean        2.693470       5.702237      13.959574      34.882956   \n",
       "std         6.106235       7.505140      13.080868      22.038484   \n",
       "min         0.000000       0.000000       0.000000       0.000000   \n",
       "25%         0.000000       1.000000       5.000000      18.000000   \n",
       "50%         1.000000       3.000000      10.000000      31.000000   \n",
       "75%         3.000000       7.000000      19.000000      48.000000   \n",
       "max       238.000000      85.000000     131.000000     208.000000   \n",
       "\n",
       "                   5              6              7              8  \\\n",
       "count  255502.000000  255502.000000  255502.000000  255502.000000   \n",
       "mean       60.612109      47.782033      24.573941      11.900361   \n",
       "std        22.799079      20.418634      16.251027      10.824319   \n",
       "min         0.000000       0.000000       0.000000       0.000000   \n",
       "25%        45.000000      34.000000      12.000000       4.000000   \n",
       "50%        59.000000      47.000000      22.000000       9.000000   \n",
       "75%        74.000000      59.000000      34.000000      16.000000   \n",
       "max       242.000000     204.000000     159.000000     126.000000   \n",
       "\n",
       "                   9             10           tag1           tag2  \\\n",
       "count  255502.000000  255502.000000  255502.000000  255502.000000   \n",
       "mean        5.018830       3.011581      11.315563      16.157862   \n",
       "std         6.076987       4.535615      10.511550      16.263798   \n",
       "min         0.000000       0.000000       0.000000       0.000000   \n",
       "25%         1.000000       1.000000       1.000000       0.000000   \n",
       "50%         3.000000       2.000000      12.000000      17.000000   \n",
       "75%         7.000000       4.000000      18.000000      27.000000   \n",
       "max       104.000000     123.000000      65.000000      65.000000   \n",
       "\n",
       "        challenge_id            MOS            MLS          width  \\\n",
       "count  255502.000000  255502.000000  255502.000000  255502.000000   \n",
       "mean      652.126594       5.383304       5.241575     606.980090   \n",
       "std       367.627966       0.731299       0.726625     110.434642   \n",
       "min         2.000000       1.808989       1.000000     120.000000   \n",
       "25%       351.000000       4.911215       5.000000     529.000000   \n",
       "50%       620.000000       5.386647       5.000000     640.000000   \n",
       "75%       944.000000       5.865613       6.000000     640.000000   \n",
       "max      1408.000000       8.600000      10.000000     800.000000   \n",
       "\n",
       "              height    num_scorers  \n",
       "count  255502.000000  255502.000000  \n",
       "mean      537.387206     210.137091  \n",
       "std       115.157571      61.507492  \n",
       "min        90.000000      78.000000  \n",
       "25%       448.000000     164.000000  \n",
       "50%       514.000000     201.000000  \n",
       "75%       640.000000     247.000000  \n",
       "max       800.000000     549.000000  "
      ]
     },
     "execution_count": 65,
     "metadata": {},
     "output_type": "execute_result"
    }
   ],
   "source": [
    "ava.describe()"
   ]
  },
  {
   "cell_type": "code",
   "execution_count": 35,
   "metadata": {},
   "outputs": [
    {
     "data": {
      "text/plain": [
       "set\n",
       "test           19928\n",
       "training      223795\n",
       "validation     11779\n",
       "dtype: int64"
      ]
     },
     "execution_count": 35,
     "metadata": {},
     "output_type": "execute_result"
    }
   ],
   "source": [
    "# Number of images per set\n",
    "ava.groupby('set').size()"
   ]
  },
  {
   "cell_type": "code",
   "execution_count": 73,
   "metadata": {},
   "outputs": [
    {
     "name": "stdout",
     "output_type": "stream",
     "text": [
      "challenge_id\n",
      "2        9\n",
      "4       20\n",
      "5       45\n",
      "6       71\n",
      "7       75\n",
      "        ..\n",
      "1404    86\n",
      "1405    90\n",
      "1406    88\n",
      "1407    62\n",
      "1408    74\n",
      "Length: 1398, dtype: int64\n",
      "Stats:\n"
     ]
    },
    {
     "data": {
      "text/plain": [
       "count    1398.000000\n",
       "mean      182.762518\n",
       "std       115.787049\n",
       "min         7.000000\n",
       "25%       103.000000\n",
       "50%       152.500000\n",
       "75%       233.000000\n",
       "max      1108.000000\n",
       "dtype: float64"
      ]
     },
     "execution_count": 73,
     "metadata": {},
     "output_type": "execute_result"
    }
   ],
   "source": [
    "# Number of images per challenge -> There's a great variance!\n",
    "print(ava.groupby('challenge_id').size())\n",
    "print(\"Stats:\")\n",
    "ava.groupby('challenge_id').size().describe()"
   ]
  },
  {
   "cell_type": "markdown",
   "metadata": {},
   "source": [
    "There are 1398 different challenges, with a mean of 182 images per challenge (although really high std). The median challenge has 152 images. "
   ]
  },
  {
   "cell_type": "code",
   "execution_count": 38,
   "metadata": {},
   "outputs": [
    {
     "data": {
      "text/plain": [
       "set         challenge_id\n",
       "test        8               1\n",
       "            9               3\n",
       "            11              1\n",
       "            12              4\n",
       "            13              2\n",
       "                           ..\n",
       "validation  1404            8\n",
       "            1405            9\n",
       "            1406            2\n",
       "            1407            4\n",
       "            1408            1\n",
       "Length: 4148, dtype: int64"
      ]
     },
     "execution_count": 38,
     "metadata": {},
     "output_type": "execute_result"
    }
   ],
   "source": [
    "splits = ava.groupby(['set', 'challenge_id']).size()\n",
    "splits"
   ]
  },
  {
   "cell_type": "code",
   "execution_count": 39,
   "metadata": {},
   "outputs": [
    {
     "data": {
      "text/plain": [
       "set\n",
       "test          1371\n",
       "training      1398\n",
       "validation    1379\n",
       "dtype: int64"
      ]
     },
     "execution_count": 39,
     "metadata": {},
     "output_type": "execute_result"
    }
   ],
   "source": [
    "# Number of challenges where each set split have images from. It's quite balanced\n",
    "splits.groupby('set').count()"
   ]
  },
  {
   "cell_type": "code",
   "execution_count": 66,
   "metadata": {},
   "outputs": [
    {
     "data": {
      "text/html": [
       "<div>\n",
       "<style scoped>\n",
       "    .dataframe tbody tr th:only-of-type {\n",
       "        vertical-align: middle;\n",
       "    }\n",
       "\n",
       "    .dataframe tbody tr th {\n",
       "        vertical-align: top;\n",
       "    }\n",
       "\n",
       "    .dataframe thead th {\n",
       "        text-align: right;\n",
       "    }\n",
       "</style>\n",
       "<table border=\"1\" class=\"dataframe\">\n",
       "  <thead>\n",
       "    <tr style=\"text-align: right;\">\n",
       "      <th></th>\n",
       "      <th>1</th>\n",
       "      <th>2</th>\n",
       "      <th>3</th>\n",
       "      <th>4</th>\n",
       "      <th>5</th>\n",
       "      <th>6</th>\n",
       "      <th>7</th>\n",
       "      <th>8</th>\n",
       "      <th>9</th>\n",
       "      <th>10</th>\n",
       "      <th>tag1</th>\n",
       "      <th>tag2</th>\n",
       "      <th>challenge_id</th>\n",
       "      <th>MOS</th>\n",
       "      <th>MLS</th>\n",
       "      <th>width</th>\n",
       "      <th>height</th>\n",
       "      <th>num_scorers</th>\n",
       "    </tr>\n",
       "  </thead>\n",
       "  <tbody>\n",
       "    <tr>\n",
       "      <th>1</th>\n",
       "      <td>1.000000</td>\n",
       "      <td>0.762965</td>\n",
       "      <td>0.613644</td>\n",
       "      <td>0.383908</td>\n",
       "      <td>-0.040863</td>\n",
       "      <td>-0.325509</td>\n",
       "      <td>-0.259695</td>\n",
       "      <td>-0.199504</td>\n",
       "      <td>-0.153385</td>\n",
       "      <td>-0.084652</td>\n",
       "      <td>-0.071551</td>\n",
       "      <td>-0.055718</td>\n",
       "      <td>-0.134624</td>\n",
       "      <td>-0.556582</td>\n",
       "      <td>-0.511586</td>\n",
       "      <td>-0.100141</td>\n",
       "      <td>-0.100326</td>\n",
       "      <td>0.212108</td>\n",
       "    </tr>\n",
       "    <tr>\n",
       "      <th>2</th>\n",
       "      <td>0.762965</td>\n",
       "      <td>1.000000</td>\n",
       "      <td>0.857820</td>\n",
       "      <td>0.658204</td>\n",
       "      <td>0.129126</td>\n",
       "      <td>-0.381244</td>\n",
       "      <td>-0.343195</td>\n",
       "      <td>-0.280856</td>\n",
       "      <td>-0.231256</td>\n",
       "      <td>-0.151381</td>\n",
       "      <td>-0.095619</td>\n",
       "      <td>-0.085875</td>\n",
       "      <td>-0.279604</td>\n",
       "      <td>-0.708156</td>\n",
       "      <td>-0.594710</td>\n",
       "      <td>-0.155020</td>\n",
       "      <td>-0.162679</td>\n",
       "      <td>0.363224</td>\n",
       "    </tr>\n",
       "    <tr>\n",
       "      <th>3</th>\n",
       "      <td>0.613644</td>\n",
       "      <td>0.857820</td>\n",
       "      <td>1.000000</td>\n",
       "      <td>0.817533</td>\n",
       "      <td>0.308110</td>\n",
       "      <td>-0.365276</td>\n",
       "      <td>-0.380117</td>\n",
       "      <td>-0.326872</td>\n",
       "      <td>-0.281099</td>\n",
       "      <td>-0.196415</td>\n",
       "      <td>-0.093261</td>\n",
       "      <td>-0.090663</td>\n",
       "      <td>-0.352579</td>\n",
       "      <td>-0.761912</td>\n",
       "      <td>-0.625970</td>\n",
       "      <td>-0.186440</td>\n",
       "      <td>-0.196469</td>\n",
       "      <td>0.463924</td>\n",
       "    </tr>\n",
       "    <tr>\n",
       "      <th>4</th>\n",
       "      <td>0.383908</td>\n",
       "      <td>0.658204</td>\n",
       "      <td>0.817533</td>\n",
       "      <td>1.000000</td>\n",
       "      <td>0.577144</td>\n",
       "      <td>-0.302898</td>\n",
       "      <td>-0.440479</td>\n",
       "      <td>-0.413935</td>\n",
       "      <td>-0.377134</td>\n",
       "      <td>-0.286398</td>\n",
       "      <td>-0.063950</td>\n",
       "      <td>-0.075583</td>\n",
       "      <td>-0.330541</td>\n",
       "      <td>-0.779394</td>\n",
       "      <td>-0.649747</td>\n",
       "      <td>-0.206487</td>\n",
       "      <td>-0.203714</td>\n",
       "      <td>0.516370</td>\n",
       "    </tr>\n",
       "    <tr>\n",
       "      <th>5</th>\n",
       "      <td>-0.040863</td>\n",
       "      <td>0.129126</td>\n",
       "      <td>0.308110</td>\n",
       "      <td>0.577144</td>\n",
       "      <td>1.000000</td>\n",
       "      <td>0.290181</td>\n",
       "      <td>-0.086668</td>\n",
       "      <td>-0.204286</td>\n",
       "      <td>-0.261034</td>\n",
       "      <td>-0.245758</td>\n",
       "      <td>0.009625</td>\n",
       "      <td>-0.025841</td>\n",
       "      <td>-0.201492</td>\n",
       "      <td>-0.349175</td>\n",
       "      <td>-0.318050</td>\n",
       "      <td>-0.131903</td>\n",
       "      <td>-0.115449</td>\n",
       "      <td>0.648259</td>\n",
       "    </tr>\n",
       "    <tr>\n",
       "      <th>6</th>\n",
       "      <td>-0.325509</td>\n",
       "      <td>-0.381244</td>\n",
       "      <td>-0.365276</td>\n",
       "      <td>-0.302898</td>\n",
       "      <td>0.290181</td>\n",
       "      <td>1.000000</td>\n",
       "      <td>0.745589</td>\n",
       "      <td>0.569522</td>\n",
       "      <td>0.412562</td>\n",
       "      <td>0.277296</td>\n",
       "      <td>0.055636</td>\n",
       "      <td>0.049007</td>\n",
       "      <td>-0.039517</td>\n",
       "      <td>0.580744</td>\n",
       "      <td>0.486711</td>\n",
       "      <td>0.023660</td>\n",
       "      <td>0.050232</td>\n",
       "      <td>0.532913</td>\n",
       "    </tr>\n",
       "    <tr>\n",
       "      <th>7</th>\n",
       "      <td>-0.259695</td>\n",
       "      <td>-0.343195</td>\n",
       "      <td>-0.380117</td>\n",
       "      <td>-0.440479</td>\n",
       "      <td>-0.086668</td>\n",
       "      <td>0.745589</td>\n",
       "      <td>1.000000</td>\n",
       "      <td>0.852926</td>\n",
       "      <td>0.740327</td>\n",
       "      <td>0.594701</td>\n",
       "      <td>0.032498</td>\n",
       "      <td>0.047232</td>\n",
       "      <td>-0.111236</td>\n",
       "      <td>0.761431</td>\n",
       "      <td>0.626936</td>\n",
       "      <td>0.021314</td>\n",
       "      <td>0.043449</td>\n",
       "      <td>0.440375</td>\n",
       "    </tr>\n",
       "    <tr>\n",
       "      <th>8</th>\n",
       "      <td>-0.199504</td>\n",
       "      <td>-0.280856</td>\n",
       "      <td>-0.326872</td>\n",
       "      <td>-0.413935</td>\n",
       "      <td>-0.204286</td>\n",
       "      <td>0.569522</td>\n",
       "      <td>0.852926</td>\n",
       "      <td>1.000000</td>\n",
       "      <td>0.850391</td>\n",
       "      <td>0.744059</td>\n",
       "      <td>0.020298</td>\n",
       "      <td>0.041745</td>\n",
       "      <td>-0.145882</td>\n",
       "      <td>0.743514</td>\n",
       "      <td>0.612437</td>\n",
       "      <td>0.005818</td>\n",
       "      <td>0.020609</td>\n",
       "      <td>0.381658</td>\n",
       "    </tr>\n",
       "    <tr>\n",
       "      <th>9</th>\n",
       "      <td>-0.153385</td>\n",
       "      <td>-0.231256</td>\n",
       "      <td>-0.281099</td>\n",
       "      <td>-0.377134</td>\n",
       "      <td>-0.261034</td>\n",
       "      <td>0.412562</td>\n",
       "      <td>0.740327</td>\n",
       "      <td>0.850391</td>\n",
       "      <td>1.000000</td>\n",
       "      <td>0.810044</td>\n",
       "      <td>0.015791</td>\n",
       "      <td>0.039071</td>\n",
       "      <td>-0.123994</td>\n",
       "      <td>0.686377</td>\n",
       "      <td>0.572684</td>\n",
       "      <td>0.007433</td>\n",
       "      <td>0.016757</td>\n",
       "      <td>0.305636</td>\n",
       "    </tr>\n",
       "    <tr>\n",
       "      <th>10</th>\n",
       "      <td>-0.084652</td>\n",
       "      <td>-0.151381</td>\n",
       "      <td>-0.196415</td>\n",
       "      <td>-0.286398</td>\n",
       "      <td>-0.245758</td>\n",
       "      <td>0.277296</td>\n",
       "      <td>0.594701</td>\n",
       "      <td>0.744059</td>\n",
       "      <td>0.810044</td>\n",
       "      <td>1.000000</td>\n",
       "      <td>0.008328</td>\n",
       "      <td>0.034385</td>\n",
       "      <td>-0.133154</td>\n",
       "      <td>0.579501</td>\n",
       "      <td>0.493123</td>\n",
       "      <td>-0.007248</td>\n",
       "      <td>0.007029</td>\n",
       "      <td>0.271537</td>\n",
       "    </tr>\n",
       "    <tr>\n",
       "      <th>tag1</th>\n",
       "      <td>-0.071551</td>\n",
       "      <td>-0.095619</td>\n",
       "      <td>-0.093261</td>\n",
       "      <td>-0.063950</td>\n",
       "      <td>0.009625</td>\n",
       "      <td>0.055636</td>\n",
       "      <td>0.032498</td>\n",
       "      <td>0.020298</td>\n",
       "      <td>0.015791</td>\n",
       "      <td>0.008328</td>\n",
       "      <td>1.000000</td>\n",
       "      <td>0.313680</td>\n",
       "      <td>0.077847</td>\n",
       "      <td>0.072720</td>\n",
       "      <td>0.062467</td>\n",
       "      <td>0.019009</td>\n",
       "      <td>0.019455</td>\n",
       "      <td>-0.025149</td>\n",
       "    </tr>\n",
       "    <tr>\n",
       "      <th>tag2</th>\n",
       "      <td>-0.055718</td>\n",
       "      <td>-0.085875</td>\n",
       "      <td>-0.090663</td>\n",
       "      <td>-0.075583</td>\n",
       "      <td>-0.025841</td>\n",
       "      <td>0.049007</td>\n",
       "      <td>0.047232</td>\n",
       "      <td>0.041745</td>\n",
       "      <td>0.039071</td>\n",
       "      <td>0.034385</td>\n",
       "      <td>0.313680</td>\n",
       "      <td>1.000000</td>\n",
       "      <td>0.073228</td>\n",
       "      <td>0.083429</td>\n",
       "      <td>0.070748</td>\n",
       "      <td>0.026119</td>\n",
       "      <td>0.027907</td>\n",
       "      <td>-0.029462</td>\n",
       "    </tr>\n",
       "    <tr>\n",
       "      <th>challenge_id</th>\n",
       "      <td>-0.134624</td>\n",
       "      <td>-0.279604</td>\n",
       "      <td>-0.352579</td>\n",
       "      <td>-0.330541</td>\n",
       "      <td>-0.201492</td>\n",
       "      <td>-0.039517</td>\n",
       "      <td>-0.111236</td>\n",
       "      <td>-0.145882</td>\n",
       "      <td>-0.123994</td>\n",
       "      <td>-0.133154</td>\n",
       "      <td>0.077847</td>\n",
       "      <td>0.073228</td>\n",
       "      <td>1.000000</td>\n",
       "      <td>0.123270</td>\n",
       "      <td>0.150287</td>\n",
       "      <td>0.376572</td>\n",
       "      <td>0.303358</td>\n",
       "      <td>-0.405839</td>\n",
       "    </tr>\n",
       "    <tr>\n",
       "      <th>MOS</th>\n",
       "      <td>-0.556582</td>\n",
       "      <td>-0.708156</td>\n",
       "      <td>-0.761912</td>\n",
       "      <td>-0.779394</td>\n",
       "      <td>-0.349175</td>\n",
       "      <td>0.580744</td>\n",
       "      <td>0.761431</td>\n",
       "      <td>0.743514</td>\n",
       "      <td>0.686377</td>\n",
       "      <td>0.579501</td>\n",
       "      <td>0.072720</td>\n",
       "      <td>0.083429</td>\n",
       "      <td>0.123270</td>\n",
       "      <td>1.000000</td>\n",
       "      <td>0.837419</td>\n",
       "      <td>0.133516</td>\n",
       "      <td>0.144105</td>\n",
       "      <td>-0.077029</td>\n",
       "    </tr>\n",
       "    <tr>\n",
       "      <th>MLS</th>\n",
       "      <td>-0.511586</td>\n",
       "      <td>-0.594710</td>\n",
       "      <td>-0.625970</td>\n",
       "      <td>-0.649747</td>\n",
       "      <td>-0.318050</td>\n",
       "      <td>0.486711</td>\n",
       "      <td>0.626936</td>\n",
       "      <td>0.612437</td>\n",
       "      <td>0.572684</td>\n",
       "      <td>0.493123</td>\n",
       "      <td>0.062467</td>\n",
       "      <td>0.070748</td>\n",
       "      <td>0.150287</td>\n",
       "      <td>0.837419</td>\n",
       "      <td>1.000000</td>\n",
       "      <td>0.134336</td>\n",
       "      <td>0.146499</td>\n",
       "      <td>-0.079239</td>\n",
       "    </tr>\n",
       "    <tr>\n",
       "      <th>width</th>\n",
       "      <td>-0.100141</td>\n",
       "      <td>-0.155020</td>\n",
       "      <td>-0.186440</td>\n",
       "      <td>-0.206487</td>\n",
       "      <td>-0.131903</td>\n",
       "      <td>0.023660</td>\n",
       "      <td>0.021314</td>\n",
       "      <td>0.005818</td>\n",
       "      <td>0.007433</td>\n",
       "      <td>-0.007248</td>\n",
       "      <td>0.019009</td>\n",
       "      <td>0.026119</td>\n",
       "      <td>0.376572</td>\n",
       "      <td>0.133516</td>\n",
       "      <td>0.134336</td>\n",
       "      <td>1.000000</td>\n",
       "      <td>-0.248508</td>\n",
       "      <td>-0.176676</td>\n",
       "    </tr>\n",
       "    <tr>\n",
       "      <th>height</th>\n",
       "      <td>-0.100326</td>\n",
       "      <td>-0.162679</td>\n",
       "      <td>-0.196469</td>\n",
       "      <td>-0.203714</td>\n",
       "      <td>-0.115449</td>\n",
       "      <td>0.050232</td>\n",
       "      <td>0.043449</td>\n",
       "      <td>0.020609</td>\n",
       "      <td>0.016757</td>\n",
       "      <td>0.007029</td>\n",
       "      <td>0.019455</td>\n",
       "      <td>0.027907</td>\n",
       "      <td>0.303358</td>\n",
       "      <td>0.144105</td>\n",
       "      <td>0.146499</td>\n",
       "      <td>-0.248508</td>\n",
       "      <td>1.000000</td>\n",
       "      <td>-0.153423</td>\n",
       "    </tr>\n",
       "    <tr>\n",
       "      <th>num_scorers</th>\n",
       "      <td>0.212108</td>\n",
       "      <td>0.363224</td>\n",
       "      <td>0.463924</td>\n",
       "      <td>0.516370</td>\n",
       "      <td>0.648259</td>\n",
       "      <td>0.532913</td>\n",
       "      <td>0.440375</td>\n",
       "      <td>0.381658</td>\n",
       "      <td>0.305636</td>\n",
       "      <td>0.271537</td>\n",
       "      <td>-0.025149</td>\n",
       "      <td>-0.029462</td>\n",
       "      <td>-0.405839</td>\n",
       "      <td>-0.077029</td>\n",
       "      <td>-0.079239</td>\n",
       "      <td>-0.176676</td>\n",
       "      <td>-0.153423</td>\n",
       "      <td>1.000000</td>\n",
       "    </tr>\n",
       "  </tbody>\n",
       "</table>\n",
       "</div>"
      ],
      "text/plain": [
       "                     1         2         3         4         5         6  \\\n",
       "1             1.000000  0.762965  0.613644  0.383908 -0.040863 -0.325509   \n",
       "2             0.762965  1.000000  0.857820  0.658204  0.129126 -0.381244   \n",
       "3             0.613644  0.857820  1.000000  0.817533  0.308110 -0.365276   \n",
       "4             0.383908  0.658204  0.817533  1.000000  0.577144 -0.302898   \n",
       "5            -0.040863  0.129126  0.308110  0.577144  1.000000  0.290181   \n",
       "6            -0.325509 -0.381244 -0.365276 -0.302898  0.290181  1.000000   \n",
       "7            -0.259695 -0.343195 -0.380117 -0.440479 -0.086668  0.745589   \n",
       "8            -0.199504 -0.280856 -0.326872 -0.413935 -0.204286  0.569522   \n",
       "9            -0.153385 -0.231256 -0.281099 -0.377134 -0.261034  0.412562   \n",
       "10           -0.084652 -0.151381 -0.196415 -0.286398 -0.245758  0.277296   \n",
       "tag1         -0.071551 -0.095619 -0.093261 -0.063950  0.009625  0.055636   \n",
       "tag2         -0.055718 -0.085875 -0.090663 -0.075583 -0.025841  0.049007   \n",
       "challenge_id -0.134624 -0.279604 -0.352579 -0.330541 -0.201492 -0.039517   \n",
       "MOS          -0.556582 -0.708156 -0.761912 -0.779394 -0.349175  0.580744   \n",
       "MLS          -0.511586 -0.594710 -0.625970 -0.649747 -0.318050  0.486711   \n",
       "width        -0.100141 -0.155020 -0.186440 -0.206487 -0.131903  0.023660   \n",
       "height       -0.100326 -0.162679 -0.196469 -0.203714 -0.115449  0.050232   \n",
       "num_scorers   0.212108  0.363224  0.463924  0.516370  0.648259  0.532913   \n",
       "\n",
       "                     7         8         9        10      tag1      tag2  \\\n",
       "1            -0.259695 -0.199504 -0.153385 -0.084652 -0.071551 -0.055718   \n",
       "2            -0.343195 -0.280856 -0.231256 -0.151381 -0.095619 -0.085875   \n",
       "3            -0.380117 -0.326872 -0.281099 -0.196415 -0.093261 -0.090663   \n",
       "4            -0.440479 -0.413935 -0.377134 -0.286398 -0.063950 -0.075583   \n",
       "5            -0.086668 -0.204286 -0.261034 -0.245758  0.009625 -0.025841   \n",
       "6             0.745589  0.569522  0.412562  0.277296  0.055636  0.049007   \n",
       "7             1.000000  0.852926  0.740327  0.594701  0.032498  0.047232   \n",
       "8             0.852926  1.000000  0.850391  0.744059  0.020298  0.041745   \n",
       "9             0.740327  0.850391  1.000000  0.810044  0.015791  0.039071   \n",
       "10            0.594701  0.744059  0.810044  1.000000  0.008328  0.034385   \n",
       "tag1          0.032498  0.020298  0.015791  0.008328  1.000000  0.313680   \n",
       "tag2          0.047232  0.041745  0.039071  0.034385  0.313680  1.000000   \n",
       "challenge_id -0.111236 -0.145882 -0.123994 -0.133154  0.077847  0.073228   \n",
       "MOS           0.761431  0.743514  0.686377  0.579501  0.072720  0.083429   \n",
       "MLS           0.626936  0.612437  0.572684  0.493123  0.062467  0.070748   \n",
       "width         0.021314  0.005818  0.007433 -0.007248  0.019009  0.026119   \n",
       "height        0.043449  0.020609  0.016757  0.007029  0.019455  0.027907   \n",
       "num_scorers   0.440375  0.381658  0.305636  0.271537 -0.025149 -0.029462   \n",
       "\n",
       "              challenge_id       MOS       MLS     width    height  \\\n",
       "1                -0.134624 -0.556582 -0.511586 -0.100141 -0.100326   \n",
       "2                -0.279604 -0.708156 -0.594710 -0.155020 -0.162679   \n",
       "3                -0.352579 -0.761912 -0.625970 -0.186440 -0.196469   \n",
       "4                -0.330541 -0.779394 -0.649747 -0.206487 -0.203714   \n",
       "5                -0.201492 -0.349175 -0.318050 -0.131903 -0.115449   \n",
       "6                -0.039517  0.580744  0.486711  0.023660  0.050232   \n",
       "7                -0.111236  0.761431  0.626936  0.021314  0.043449   \n",
       "8                -0.145882  0.743514  0.612437  0.005818  0.020609   \n",
       "9                -0.123994  0.686377  0.572684  0.007433  0.016757   \n",
       "10               -0.133154  0.579501  0.493123 -0.007248  0.007029   \n",
       "tag1              0.077847  0.072720  0.062467  0.019009  0.019455   \n",
       "tag2              0.073228  0.083429  0.070748  0.026119  0.027907   \n",
       "challenge_id      1.000000  0.123270  0.150287  0.376572  0.303358   \n",
       "MOS               0.123270  1.000000  0.837419  0.133516  0.144105   \n",
       "MLS               0.150287  0.837419  1.000000  0.134336  0.146499   \n",
       "width             0.376572  0.133516  0.134336  1.000000 -0.248508   \n",
       "height            0.303358  0.144105  0.146499 -0.248508  1.000000   \n",
       "num_scorers      -0.405839 -0.077029 -0.079239 -0.176676 -0.153423   \n",
       "\n",
       "              num_scorers  \n",
       "1                0.212108  \n",
       "2                0.363224  \n",
       "3                0.463924  \n",
       "4                0.516370  \n",
       "5                0.648259  \n",
       "6                0.532913  \n",
       "7                0.440375  \n",
       "8                0.381658  \n",
       "9                0.305636  \n",
       "10               0.271537  \n",
       "tag1            -0.025149  \n",
       "tag2            -0.029462  \n",
       "challenge_id    -0.405839  \n",
       "MOS             -0.077029  \n",
       "MLS             -0.079239  \n",
       "width           -0.176676  \n",
       "height          -0.153423  \n",
       "num_scorers      1.000000  "
      ]
     },
     "execution_count": 66,
     "metadata": {},
     "output_type": "execute_result"
    }
   ],
   "source": [
    "ava.sort_values(by='challenge_id').corr()"
   ]
  },
  {
   "cell_type": "code",
   "execution_count": 67,
   "metadata": {},
   "outputs": [
    {
     "data": {
      "image/png": "[encoded data removed]",
      "text/plain": [
       "<Figure size 1368x1080 with 2 Axes>"
      ]
     },
     "metadata": {
      "needs_background": "light"
     },
     "output_type": "display_data"
    }
   ],
   "source": [
    "f = plt.figure(figsize=(19, 15))\n",
    "plt.matshow(ava.sort_values(by='challenge_id').corr(), fignum=f.number)\n",
    "plt.xticks(range(ava.select_dtypes(['number']).shape[1]), ava.select_dtypes(['number']).columns, fontsize=14, rotation=45)\n",
    "plt.yticks(range(ava.select_dtypes(['number']).shape[1]), ava.select_dtypes(['number']).columns, fontsize=14)\n",
    "cb = plt.colorbar()\n",
    "cb.ax.tick_params(labelsize=14)\n",
    "plt.title('Correlation Matrix', fontsize=16)\n",
    "plt.show()"
   ]
  },
  {
   "cell_type": "code",
   "execution_count": 88,
   "metadata": {},
   "outputs": [
    {
     "name": "stderr",
     "output_type": "stream",
     "text": [
      "*c* argument looks like a single numeric RGB or RGBA sequence, which should be avoided as value-mapping will have precedence in case its length matches with *x* & *y*.  Please use the *color* keyword-argument or provide a 2D array with a single row if you intend to specify the same RGB or RGBA value for all points.\n"
     ]
    },
    {
     "data": {
      "text/plain": [
       "<AxesSubplot:xlabel='challenge_id', ylabel='num_scorers'>"
      ]
     },
     "execution_count": 88,
     "metadata": {},
     "output_type": "execute_result"
    },
    {
     "data": {
      "image/png": "[encoded data removed]",
      "text/plain": [
       "<Figure size 432x288 with 1 Axes>"
      ]
     },
     "metadata": {},
     "output_type": "display_data"
    }
   ],
   "source": [
    "gava = ava.groupby('challenge_id').sum().reset_index()\n",
    "gava.plot(x='challenge_id', y='num_scorers', kind='scatter')"
   ]
  },
  {
   "cell_type": "markdown",
   "metadata": {},
   "source": [
    "There's a quite strong negative correlation (40%) between challenge id (time) and num_scorers, meaning there are less active users with time:"
   ]
  },
  {
   "cell_type": "code",
   "execution_count": 89,
   "metadata": {},
   "outputs": [
    {
     "data": {
      "text/plain": [
       "<AxesSubplot:xlabel='challenge_id', ylabel='num_scorers'>"
      ]
     },
     "execution_count": 89,
     "metadata": {},
     "output_type": "execute_result"
    },
    {
     "data": {
      "image/png": "[encoded data removed]",
      "text/plain": [
       "<Figure size 1440x720 with 1 Axes>"
      ]
     },
     "metadata": {},
     "output_type": "display_data"
    }
   ],
   "source": [
    "import seaborn as sns\n",
    "from matplotlib import pyplot\n",
    "sns.set_theme(color_codes=True)\n",
    "\n",
    "fig, ax = pyplot.subplots(figsize=(20,10))\n",
    "sns.regplot(x=gava.challenge_id, y=gava.num_scorers, fit_reg=True)"
   ]
  },
  {
   "cell_type": "markdown",
   "metadata": {},
   "source": [
    "There's also a quite strong positive correlation between teh resolution of the images and challenge id (time):"
   ]
  },
  {
   "cell_type": "code",
   "execution_count": 92,
   "metadata": {},
   "outputs": [
    {
     "name": "stderr",
     "output_type": "stream",
     "text": [
      "*c* argument looks like a single numeric RGB or RGBA sequence, which should be avoided as value-mapping will have precedence in case its length matches with *x* & *y*.  Please use the *color* keyword-argument or provide a 2D array with a single row if you intend to specify the same RGB or RGBA value for all points.\n"
     ]
    },
    {
     "data": {
      "text/plain": [
       "<AxesSubplot:xlabel='challenge_id', ylabel='height'>"
      ]
     },
     "execution_count": 92,
     "metadata": {},
     "output_type": "execute_result"
    },
    {
     "data": {
      "image/png": "[encoded data removed]",
      "text/plain": [
       "<Figure size 432x288 with 1 Axes>"
      ]
     },
     "metadata": {},
     "output_type": "display_data"
    }
   ],
   "source": [
    "gava = ava.groupby('challenge_id').mean().reset_index()\n",
    "gava.plot(x='challenge_id', y='height', kind='scatter')"
   ]
  },
  {
   "cell_type": "code",
   "execution_count": 93,
   "metadata": {},
   "outputs": [
    {
     "name": "stderr",
     "output_type": "stream",
     "text": [
      "*c* argument looks like a single numeric RGB or RGBA sequence, which should be avoided as value-mapping will have precedence in case its length matches with *x* & *y*.  Please use the *color* keyword-argument or provide a 2D array with a single row if you intend to specify the same RGB or RGBA value for all points.\n"
     ]
    },
    {
     "data": {
      "text/plain": [
       "<AxesSubplot:xlabel='challenge_id', ylabel='width'>"
      ]
     },
     "execution_count": 93,
     "metadata": {},
     "output_type": "execute_result"
    },
    {
     "data": {
      "image/png": "[encoded data removed]",
      "text/plain": [
       "<Figure size 432x288 with 1 Axes>"
      ]
     },
     "metadata": {},
     "output_type": "display_data"
    }
   ],
   "source": [
    "gava = ava.groupby('challenge_id').mean().reset_index()\n",
    "gava.plot(x='challenge_id', y='width', kind='scatter')"
   ]
  },
  {
   "cell_type": "markdown",
   "metadata": {},
   "source": [
    "Although apparently this increase in resolution has not increased that much the MOS:"
   ]
  },
  {
   "cell_type": "code",
   "execution_count": 94,
   "metadata": {},
   "outputs": [
    {
     "name": "stderr",
     "output_type": "stream",
     "text": [
      "*c* argument looks like a single numeric RGB or RGBA sequence, which should be avoided as value-mapping will have precedence in case its length matches with *x* & *y*.  Please use the *color* keyword-argument or provide a 2D array with a single row if you intend to specify the same RGB or RGBA value for all points.\n"
     ]
    },
    {
     "data": {
      "text/plain": [
       "<AxesSubplot:xlabel='challenge_id', ylabel='MOS'>"
      ]
     },
     "execution_count": 94,
     "metadata": {},
     "output_type": "execute_result"
    },
    {
     "data": {
      "image/png": "[encoded data removed]",
      "text/plain": [
       "<Figure size 432x288 with 1 Axes>"
      ]
     },
     "metadata": {},
     "output_type": "display_data"
    }
   ],
   "source": [
    "gava = ava.groupby('challenge_id').mean().reset_index()\n",
    "gava.plot(x='challenge_id', y='MOS', kind='scatter')"
   ]
  },
  {
   "cell_type": "markdown",
   "metadata": {},
   "source": [
    "The challenge id = 1408 (max challenge id) is from May 2011: https://www.dpchallenge.com/challenge_results.php?CHALLENGE_ID=1408\n",
    "\n",
    "The latest challenge (June 22) has the id 3410, meaning the ava dataset could be easily multiplied by two."
   ]
  },
  {
   "cell_type": "markdown",
   "metadata": {},
   "source": []
  }
 ],
 "metadata": {
  "interpreter": {
   "hash": "af2568b77c9ec3f1a0d64b3461c66b289f4d544951ee8b1306f1fdd362419001"
  },
  "kernelspec": {
   "display_name": "Python 3.10.4 ('aestheval')",
   "language": "python",
   "name": "python3"
  },
  "language_info": {
   "codemirror_mode": {
    "name": "ipython",
    "version": 3
   },
   "file_extension": ".py",
   "mimetype": "text/x-python",
   "name": "python",
   "nbconvert_exporter": "python",
   "pygments_lexer": "ipython3",
   "version": "3.10.4"
  },
  "orig_nbformat": 4
 },
 "nbformat": 4,
 "nbformat_minor": 2
}
